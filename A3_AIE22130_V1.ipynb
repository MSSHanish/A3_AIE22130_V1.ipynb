{
  "nbformat": 4,
  "nbformat_minor": 0,
  "metadata": {
    "colab": {
      "provenance": []
    },
    "kernelspec": {
      "name": "python3",
      "display_name": "Python 3"
    },
    "language_info": {
      "name": "python"
    }
  },
  "cells": [
    {
      "cell_type": "code",
      "execution_count": 2,
      "metadata": {
        "colab": {
          "base_uri": "https://localhost:8080/"
        },
        "id": "tXvMB4UHkH4z",
        "outputId": "eb837c79-2790-4950-a83b-0c91cf185590"
      },
      "outputs": [
        {
          "output_type": "stream",
          "name": "stdout",
          "text": [
            "Matrix A (Product Features):\n",
            "   Candies (#)  Mangoes (Kg)  Milk Packets (#)\n",
            "0           20             6                 2\n",
            "1           16             3                 6\n",
            "2           27             6                 2\n",
            "3           19             1                 2\n",
            "4           24             4                 2\n",
            "5           22             1                 5\n",
            "6           15             4                 2\n",
            "7           18             4                 2\n",
            "8           21             1                 4\n",
            "9           16             2                 4\n",
            "\n",
            "Matrix C (Total Cost):\n",
            "0    386\n",
            "1    289\n",
            "2    393\n",
            "3    110\n",
            "4    280\n",
            "5    167\n",
            "6    271\n",
            "7    274\n",
            "8    148\n",
            "9    198\n",
            "Name: Payment (Rs), dtype: int64\n",
            "\n",
            "Dimensionality of the vector space: 3\n",
            "Number of vectors in the vector space: 10\n",
            "Rank of Matrix A: 3\n",
            "\n",
            "Estimated Cost of Each Product:\n",
            "Product 1: 0.9999999999999989\n",
            "Product 2: 54.99999999999999\n",
            "Product 3: 18.0\n"
          ]
        }
      ],
      "source": [
        "import pandas as pd\n",
        "import numpy as np\n",
        "\n",
        "# Load data from Excel file\n",
        "file_path = \"/content/Lab Session1 Data.xlsx\"\n",
        "df = pd.read_excel(file_path, sheet_name='Purchase data').iloc[:, :5]\n",
        "\n",
        "# Extract matrices A and C from the loaded data\n",
        "A = df.iloc[:, 1:4]  # Matrix A represents the features of the purchased products\n",
        "C = df.iloc[:, 4]    # Matrix C represents the total cost for each purchase transaction\n",
        "\n",
        "# Display matrices A and C\n",
        "print(\"Matrix A (Product Features):\")\n",
        "print(A)\n",
        "print(\"\\nMatrix C (Total Cost):\")\n",
        "print(C)\n",
        "\n",
        "# Display dimensionality of the vector space\n",
        "dimensionality = A.shape[1]\n",
        "print(f\"\\nDimensionality of the vector space: {dimensionality}\")\n",
        "\n",
        "# Display the number of vectors in the vector space\n",
        "num_vectors = A.shape[0]\n",
        "print(f\"Number of vectors in the vector space: {num_vectors}\")\n",
        "\n",
        "# Calculate the rank of matrix A\n",
        "rank_A = np.linalg.matrix_rank(A)\n",
        "print(f\"Rank of Matrix A: {rank_A}\")\n",
        "\n",
        "# Using Pseudo-Inverse to find the cost of each product\n",
        "A_pseudo_inverse = np.linalg.pinv(A)\n",
        "product_costs = np.dot(A_pseudo_inverse, C)\n",
        "\n",
        "# Display the cost of each product\n",
        "print(\"\\nEstimated Cost of Each Product:\")\n",
        "for i, cost in enumerate(product_costs):\n",
        "    print(f\"Product {i+1}: {cost}\")\n"
      ]
    },
    {
      "cell_type": "code",
      "source": [
        "import pandas as pd\n",
        "import numpy as np\n",
        "\n",
        "def euclidean_distance(x1, x2):\n",
        "    # Calculate the Euclidean distance between two data points\n",
        "    return np.sqrt(np.sum((np.array(x1) - np.array(x2))**2))\n",
        "\n",
        "def k_nearest_neighbors(training_data, labels, query, k):\n",
        "    # Calculate distances from the query point to all points in the training data\n",
        "    distances = [euclidean_distance(query, data) for data in training_data]\n",
        "\n",
        "    # Find the indices of the k-nearest neighbors\n",
        "    nearest_indices = np.argsort(distances)[:k]\n",
        "\n",
        "    # Get the labels of the k-nearest neighbors\n",
        "    nearest_labels = [labels[i] for i in nearest_indices]\n",
        "\n",
        "    # Predict the label based on majority voting among the neighbors\n",
        "    predicted_label = max(set(nearest_labels), key=nearest_labels.count)\n",
        "\n",
        "    return predicted_label\n",
        "\n",
        "def load_data(file_path):\n",
        "    # Load data from an Excel file and return the DataFrame\n",
        "    return pd.read_excel(file_path)\n",
        "\n",
        "if __name__ == \"__main__\":\n",
        "    # Specify the file path containing the data\n",
        "    file_path = \"/content/Lab Session1 Data.xlsx\"\n",
        "\n",
        "    # Load the data into a DataFrame\n",
        "    df = load_data(file_path)\n",
        "\n",
        "    # Categorize customers as WEALTHY or LESS AFFLUENT based on their payment amounts\n",
        "    df['Class'] = np.where(df['Payment (Rs)'] > 200, 'WEALTHY', 'LESS AFFLUENT')\n",
        "\n",
        "    # Extract features and target variable\n",
        "    X = df[['Candies (#)', 'Mangoes (Kg)', 'Milk Packets (#)']].values\n",
        "    y = df['Class'].values\n",
        "\n",
        "    # Define training data and corresponding labels\n",
        "    training_data = X\n",
        "    labels = y\n",
        "\n",
        "    # Define the customer to be classified\n",
        "    query_customer = [25, 1, 2]\n",
        "\n",
        "    # Set the number of neighbors to consider\n",
        "    k = 3\n",
        "\n",
        "    # Predict the class for the given customer using k-nearest neighbors\n",
        "    predicted_class = k_nearest_neighbors(training_data, labels, query_customer, k)\n",
        "    print(\"Predicted customer class:\", predicted_class)\n"
      ],
      "metadata": {
        "colab": {
          "base_uri": "https://localhost:8080/"
        },
        "id": "wdKpxIVnlChJ",
        "outputId": "4200fc13-ba78-413e-81c1-7e143a499752"
      },
      "execution_count": 3,
      "outputs": [
        {
          "output_type": "stream",
          "name": "stdout",
          "text": [
            "Predicted customer class: LESS AFFLUENT\n"
          ]
        }
      ]
    },
    {
      "cell_type": "code",
      "source": [
        "import pandas as pd\n",
        "import statistics\n",
        "import matplotlib.pyplot as plt\n",
        "\n",
        "# Load data from Excel file\n",
        "file_path = '/content/Lab Session1 Data.xlsx'\n",
        "df_stock = pd.read_excel(file_path, sheet_name='IRCTC Stock Price')\n",
        "\n",
        "# Question 1: What is the mean and variance of the Price data?\n",
        "price_mean = statistics.mean(df_stock['Price'])\n",
        "price_variance = statistics.variance(df_stock['Price'])\n",
        "\n",
        "print(f\"1. Mean of Price: {price_mean}\")\n",
        "print(f\"   Variance of Price: {price_variance}\")\n",
        "\n",
        "# Question 2: What is the sample mean of the Price data for all Wednesdays?\n",
        "wednesday_prices = df_stock[df_stock['Day'] == 'Wed']\n",
        "wednesday_prices = wednesday_prices['Price']\n",
        "wednesday_mean = statistics.mean(wednesday_prices)\n",
        "\n",
        "print(f\"2. Sample Mean of Wednesday Prices: {wednesday_mean}\")\n",
        "\n",
        "# Question 3: What is the sample mean of the Price data for the month of April?\n",
        "april_prices = df_stock[df_stock['Month'] == 'Apr']\n",
        "april_prices = april_prices['Price']\n",
        "april_mean = statistics.mean(april_prices)\n",
        "\n",
        "print(f\"3. Sample Mean of April Prices: {april_mean}\")\n",
        "\n",
        "# Question 4: What is the probability of making a loss over the stock?\n",
        "loss_probability = len(df_stock[df_stock['Chg%'] < 0]) / len(df_stock)\n",
        "print(f\"4. Probability of making a loss: {loss_probability}\")\n",
        "\n",
        "# Question 5: What is the probability of making a profit on Wednesdays?\n",
        "wednesday_profit_probability = len(wednesday_prices[wednesday_prices.diff() > 0]) / len(wednesday_prices)\n",
        "print(f\"5. Probability of making a profit on Wednesday: {wednesday_profit_probability}\")\n",
        "\n",
        "# Question 6: What is the conditional probability of making a profit given today is Wednesday?\n",
        "conditional_profit_given_wednesday = wednesday_profit_probability / len(df_stock[df_stock['Day'] == 'Wed'])\n",
        "print(f\"6. Conditional Probability of making profit given today is Wednesday: {conditional_profit_given_wednesday}\")\n",
        "\n",
        "# Question 7: What does the scatter plot of Chg% data against the day of the week reveal?\n",
        "plt.scatter(df_stock['Day'], df_stock['Chg%'])\n",
        "plt.xlabel('Day of the Week')\n",
        "plt.ylabel('Chg%')\n",
        "plt.title('7. Scatter Plot of Chg% against Day of the Week')\n",
        "plt.show()\n"
      ],
      "metadata": {
        "colab": {
          "base_uri": "https://localhost:8080/",
          "height": 593
        },
        "id": "tdBtIhgqlrW4",
        "outputId": "c52c02b2-a011-443f-ffd0-a03a9cf38408"
      },
      "execution_count": 4,
      "outputs": [
        {
          "output_type": "stream",
          "name": "stdout",
          "text": [
            "1. Mean of Price: 1560.663453815261\n",
            "   Variance of Price: 58732.365352539186\n",
            "2. Sample Mean of Wednesday Prices: 1550.706\n",
            "3. Sample Mean of April Prices: 1698.9526315789474\n",
            "4. Probability of making a loss: 0.4979919678714859\n",
            "5. Probability of making a profit on Wednesday: 0.5\n",
            "6. Conditional Probability of making profit given today is Wednesday: 0.01\n"
          ]
        },
        {
          "output_type": "display_data",
          "data": {
            "text/plain": [
              "<Figure size 640x480 with 1 Axes>"
            ],
            "image/png": "[encoded data removed]"
          },
          "metadata": {}
        }
      ]
    }
  ]
}